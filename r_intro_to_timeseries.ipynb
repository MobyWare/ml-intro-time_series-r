{
 "cells": [
  {
   "cell_type": "markdown",
   "metadata": {},
   "source": [
    "Using Data from Airline passengers built-in dataset"
   ]
  },
  {
   "cell_type": "code",
   "execution_count": 1,
   "metadata": {
    "collapsed": true
   },
   "outputs": [],
   "source": [
    "df = data(AirPassengers)"
   ]
  },
  {
   "cell_type": "markdown",
   "metadata": {},
   "source": [
    "Summary of this data. It doesn't seem to be a data.frame.\n",
    "\n",
    "I am using *sprintf* in a similar fashion to print from python."
   ]
  },
  {
   "cell_type": "code",
   "execution_count": 4,
   "metadata": {
    "collapsed": false
   },
   "outputs": [
    {
     "data": {
      "text/html": [
       "<ol class=list-inline>\n",
       "\t<li>'AirPassengers is type ts.\n",
       "It starts at 1949 and ends at 1960.'</li>\n",
       "\t<li>'AirPassengers is type ts.\n",
       "It starts at 1 and ends at 12.'</li>\n",
       "</ol>\n"
      ],
      "text/latex": [
       "\\begin{enumerate*}\n",
       "\\item 'AirPassengers is type ts.\n",
       "It starts at 1949 and ends at 1960.'\n",
       "\\item 'AirPassengers is type ts.\n",
       "It starts at 1 and ends at 12.'\n",
       "\\end{enumerate*}\n"
      ],
      "text/markdown": [
       "1. 'AirPassengers is type ts.\n",
       "It starts at 1949 and ends at 1960.'\n",
       "2. 'AirPassengers is type ts.\n",
       "It starts at 1 and ends at 12.'\n",
       "\n",
       "\n"
      ],
      "text/plain": [
       "[1] \"AirPassengers is type ts.\\nIt starts at 1949 and ends at 1960.\"\n",
       "[2] \"AirPassengers is type ts.\\nIt starts at 1 and ends at 12.\"     "
      ]
     },
     "metadata": {},
     "output_type": "display_data"
    },
    {
     "name": "stdout",
     "output_type": "stream",
     "text": [
      "   Min. 1st Qu.  Median    Mean 3rd Qu.    Max. \n",
      "  104.0   180.0   265.5   280.3   360.5   622.0 \n",
      "[1] 12\n"
     ]
    }
   ],
   "source": [
    "sprintf('AirPassengers is type %s.\\nIt starts at %s and ends at %s.', class(AirPassengers), start(AirPassengers), end(AirPassengers))\n",
    "#sprintf('AirPassagers has a frequency of %s.\\nSummary: %s', frequency(AirPassengers), summary(AirPassengers))\n",
    "print(summary(AirPassengers))\n",
    "print(frequency(AirPassengers))"
   ]
  },
  {
   "cell_type": "code",
   "execution_count": 5,
   "metadata": {
    "collapsed": false
   },
   "outputs": [
    {
     "data": {
      "image/png": "[encoded data removed]",
      "text/plain": [
       "plot without title"
      ]
     },
     "metadata": {},
     "output_type": "display_data"
    }
   ],
   "source": [
    "plot(AirPassengers)"
   ]
  }
 ],
 "metadata": {
  "anaconda-cloud": {},
  "kernelspec": {
   "display_name": "R",
   "language": "R",
   "name": "ir"
  },
  "language_info": {
   "codemirror_mode": "r",
   "file_extension": ".r",
   "mimetype": "text/x-r-source",
   "name": "R",
   "pygments_lexer": "r",
   "version": "3.3.1"
  }
 },
 "nbformat": 4,
 "nbformat_minor": 0
}
