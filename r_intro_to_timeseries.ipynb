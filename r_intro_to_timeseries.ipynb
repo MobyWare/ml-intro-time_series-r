{
 "cells": [
  {
   "cell_type": "markdown",
   "metadata": {},
   "source": [
    "Using Data from Airline passengers built-in dataset"
   ]
  },
  {
   "cell_type": "code",
   "execution_count": 2,
   "metadata": {
    "collapsed": true
   },
   "outputs": [],
   "source": [
    "df = data(AirPassengers)"
   ]
  },
  {
   "cell_type": "markdown",
   "metadata": {},
   "source": [
    "Summary of this data. It doesn't seem to be a data.frame.\n",
    "\n",
    "I am using *sprintf* in a similar fashion to print from python."
   ]
  },
  {
   "cell_type": "code",
   "execution_count": 10,
   "metadata": {
    "collapsed": false
   },
   "outputs": [
    {
     "data": {
      "text/html": [
       "<ol class=list-inline>\n",
       "\t<li>'AirPassengers is type ts.\n",
       "It starts at 1949 and ends at 1960.'</li>\n",
       "\t<li>'AirPassengers is type ts.\n",
       "It starts at 1 and ends at 12.'</li>\n",
       "</ol>\n"
      ],
      "text/latex": [
       "\\begin{enumerate*}\n",
       "\\item 'AirPassengers is type ts.\n",
       "It starts at 1949 and ends at 1960.'\n",
       "\\item 'AirPassengers is type ts.\n",
       "It starts at 1 and ends at 12.'\n",
       "\\end{enumerate*}\n"
      ],
      "text/markdown": [
       "1. 'AirPassengers is type ts.\n",
       "It starts at 1949 and ends at 1960.'\n",
       "2. 'AirPassengers is type ts.\n",
       "It starts at 1 and ends at 12.'\n",
       "\n",
       "\n"
      ],
      "text/plain": [
       "[1] \"AirPassengers is type ts.\\nIt starts at 1949 and ends at 1960.\"\n",
       "[2] \"AirPassengers is type ts.\\nIt starts at 1 and ends at 12.\"     "
      ]
     },
     "metadata": {},
     "output_type": "display_data"
    },
    {
     "data": {
      "text/html": [
       "<ol class=list-inline>\n",
       "\t<li>'AirPassagers has a frequency of 12.\n",
       "Summary: 104'</li>\n",
       "\t<li>'AirPassagers has a frequency of 12.\n",
       "Summary: 180'</li>\n",
       "\t<li>'AirPassagers has a frequency of 12.\n",
       "Summary: 265.5'</li>\n",
       "\t<li>'AirPassagers has a frequency of 12.\n",
       "Summary: 280.3'</li>\n",
       "\t<li>'AirPassagers has a frequency of 12.\n",
       "Summary: 360.5'</li>\n",
       "\t<li>'AirPassagers has a frequency of 12.\n",
       "Summary: 622'</li>\n",
       "</ol>\n"
      ],
      "text/latex": [
       "\\begin{enumerate*}\n",
       "\\item 'AirPassagers has a frequency of 12.\n",
       "Summary: 104'\n",
       "\\item 'AirPassagers has a frequency of 12.\n",
       "Summary: 180'\n",
       "\\item 'AirPassagers has a frequency of 12.\n",
       "Summary: 265.5'\n",
       "\\item 'AirPassagers has a frequency of 12.\n",
       "Summary: 280.3'\n",
       "\\item 'AirPassagers has a frequency of 12.\n",
       "Summary: 360.5'\n",
       "\\item 'AirPassagers has a frequency of 12.\n",
       "Summary: 622'\n",
       "\\end{enumerate*}\n"
      ],
      "text/markdown": [
       "1. 'AirPassagers has a frequency of 12.\n",
       "Summary: 104'\n",
       "2. 'AirPassagers has a frequency of 12.\n",
       "Summary: 180'\n",
       "3. 'AirPassagers has a frequency of 12.\n",
       "Summary: 265.5'\n",
       "4. 'AirPassagers has a frequency of 12.\n",
       "Summary: 280.3'\n",
       "5. 'AirPassagers has a frequency of 12.\n",
       "Summary: 360.5'\n",
       "6. 'AirPassagers has a frequency of 12.\n",
       "Summary: 622'\n",
       "\n",
       "\n"
      ],
      "text/plain": [
       "[1] \"AirPassagers has a frequency of 12.\\nSummary: 104\"  \n",
       "[2] \"AirPassagers has a frequency of 12.\\nSummary: 180\"  \n",
       "[3] \"AirPassagers has a frequency of 12.\\nSummary: 265.5\"\n",
       "[4] \"AirPassagers has a frequency of 12.\\nSummary: 280.3\"\n",
       "[5] \"AirPassagers has a frequency of 12.\\nSummary: 360.5\"\n",
       "[6] \"AirPassagers has a frequency of 12.\\nSummary: 622\"  "
      ]
     },
     "metadata": {},
     "output_type": "display_data"
    }
   ],
   "source": [
    "sprintf('AirPassengers is type %s.\\nIt starts at %s and ends at %s.', class(AirPassengers), start(AirPassengers), end(AirPassengers))\n",
    "sprintf('AirPassagers has a frequency of %s.\\nSummary: %s', frequency(AirPassengers), summary(AirPassengers))"
   ]
  },
  {
   "cell_type": "code",
   "execution_count": 13,
   "metadata": {
    "collapsed": false
   },
   "outputs": [
    {
     "name": "stdout",
     "output_type": "stream",
     "text": [
      "   Min. 1st Qu.  Median    Mean 3rd Qu.    Max. \n",
      "  104.0   180.0   265.5   280.3   360.5   622.0 \n"
     ]
    }
   ],
   "source": [
    "print(summary(AirPassengers))"
   ]
  }
 ],
 "metadata": {
  "kernelspec": {
   "display_name": "R",
   "language": "R",
   "name": "ir"
  },
  "language_info": {
   "codemirror_mode": "r",
   "file_extension": ".r",
   "mimetype": "text/x-r-source",
   "name": "R",
   "pygments_lexer": "r",
   "version": "3.3.1"
  }
 },
 "nbformat": 4,
 "nbformat_minor": 0
}
